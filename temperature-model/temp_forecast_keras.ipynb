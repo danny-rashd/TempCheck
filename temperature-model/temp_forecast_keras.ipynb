{
 "cells": [
  {
   "cell_type": "code",
   "execution_count": 1,
   "metadata": {},
   "outputs": [],
   "source": [
    "import tensorflow as tf\n",
    "import os\n",
    "import pandas as pd\n",
    "import numpy as np"
   ]
  },
  {
   "cell_type": "code",
   "execution_count": 2,
   "metadata": {},
   "outputs": [
    {
     "data": {
      "text/html": [
       "<div>\n",
       "<style scoped>\n",
       "    .dataframe tbody tr th:only-of-type {\n",
       "        vertical-align: middle;\n",
       "    }\n",
       "\n",
       "    .dataframe tbody tr th {\n",
       "        vertical-align: top;\n",
       "    }\n",
       "\n",
       "    .dataframe thead th {\n",
       "        text-align: right;\n",
       "    }\n",
       "</style>\n",
       "<table border=\"1\" class=\"dataframe\">\n",
       "  <thead>\n",
       "    <tr style=\"text-align: right;\">\n",
       "      <th></th>\n",
       "      <th>A</th>\n",
       "      <th>B</th>\n",
       "      <th>Epoch</th>\n",
       "      <th>Temperature</th>\n",
       "      <th>Datetime</th>\n",
       "    </tr>\n",
       "  </thead>\n",
       "  <tbody>\n",
       "    <tr>\n",
       "      <th>0</th>\n",
       "      <td>12ebf5b0-01a8-11ec-9de6-b597d786564a</td>\n",
       "      <td>9</td>\n",
       "      <td>1615440543669</td>\n",
       "      <td>26.35</td>\n",
       "      <td>2021-03-11 13:29:03.668999936+08:00</td>\n",
       "    </tr>\n",
       "    <tr>\n",
       "      <th>1</th>\n",
       "      <td>12ebf5b0-01a8-11ec-9de6-b597d786564a</td>\n",
       "      <td>9</td>\n",
       "      <td>1615440544134</td>\n",
       "      <td>26.43</td>\n",
       "      <td>2021-03-11 13:29:04.134000128+08:00</td>\n",
       "    </tr>\n",
       "    <tr>\n",
       "      <th>2</th>\n",
       "      <td>12ebf5b0-01a8-11ec-9de6-b597d786564a</td>\n",
       "      <td>9</td>\n",
       "      <td>1615440544441</td>\n",
       "      <td>26.49</td>\n",
       "      <td>2021-03-11 13:29:04.440999936+08:00</td>\n",
       "    </tr>\n",
       "    <tr>\n",
       "      <th>3</th>\n",
       "      <td>12ebf5b0-01a8-11ec-9de6-b597d786564a</td>\n",
       "      <td>9</td>\n",
       "      <td>1615440545228</td>\n",
       "      <td>26.50</td>\n",
       "      <td>2021-03-11 13:29:05.228000+08:00</td>\n",
       "    </tr>\n",
       "    <tr>\n",
       "      <th>4</th>\n",
       "      <td>12ebf5b0-01a8-11ec-9de6-b597d786564a</td>\n",
       "      <td>9</td>\n",
       "      <td>1615440545775</td>\n",
       "      <td>26.50</td>\n",
       "      <td>2021-03-11 13:29:05.775000064+08:00</td>\n",
       "    </tr>\n",
       "    <tr>\n",
       "      <th>...</th>\n",
       "      <td>...</td>\n",
       "      <td>...</td>\n",
       "      <td>...</td>\n",
       "      <td>...</td>\n",
       "      <td>...</td>\n",
       "    </tr>\n",
       "    <tr>\n",
       "      <th>27820</th>\n",
       "      <td>dd2361c0-7a3d-11ec-a439-89feef661f3b</td>\n",
       "      <td>9</td>\n",
       "      <td>1649145700068</td>\n",
       "      <td>27.00</td>\n",
       "      <td>2022-04-05 16:01:40.068000+08:00</td>\n",
       "    </tr>\n",
       "    <tr>\n",
       "      <th>27821</th>\n",
       "      <td>dd2361c0-7a3d-11ec-a439-89feef661f3b</td>\n",
       "      <td>9</td>\n",
       "      <td>1649145760133</td>\n",
       "      <td>24.00</td>\n",
       "      <td>2022-04-05 16:02:40.132999936+08:00</td>\n",
       "    </tr>\n",
       "    <tr>\n",
       "      <th>27822</th>\n",
       "      <td>dd2361c0-7a3d-11ec-a439-89feef661f3b</td>\n",
       "      <td>9</td>\n",
       "      <td>1649146139937</td>\n",
       "      <td>29.00</td>\n",
       "      <td>2022-04-05 16:08:59.936999936+08:00</td>\n",
       "    </tr>\n",
       "    <tr>\n",
       "      <th>27823</th>\n",
       "      <td>dd2361c0-7a3d-11ec-a439-89feef661f3b</td>\n",
       "      <td>9</td>\n",
       "      <td>1649146339967</td>\n",
       "      <td>27.00</td>\n",
       "      <td>2022-04-05 16:12:19.967000064+08:00</td>\n",
       "    </tr>\n",
       "    <tr>\n",
       "      <th>27824</th>\n",
       "      <td>57bbb820-a364-11ec-a439-89feef661f3b</td>\n",
       "      <td>9</td>\n",
       "      <td>1649146399984</td>\n",
       "      <td>23.50</td>\n",
       "      <td>2022-04-05 16:13:19.984000+08:00</td>\n",
       "    </tr>\n",
       "  </tbody>\n",
       "</table>\n",
       "<p>27825 rows × 5 columns</p>\n",
       "</div>"
      ],
      "text/plain": [
       "                                          A  B          Epoch  Temperature  \\\n",
       "0      12ebf5b0-01a8-11ec-9de6-b597d786564a  9  1615440543669        26.35   \n",
       "1      12ebf5b0-01a8-11ec-9de6-b597d786564a  9  1615440544134        26.43   \n",
       "2      12ebf5b0-01a8-11ec-9de6-b597d786564a  9  1615440544441        26.49   \n",
       "3      12ebf5b0-01a8-11ec-9de6-b597d786564a  9  1615440545228        26.50   \n",
       "4      12ebf5b0-01a8-11ec-9de6-b597d786564a  9  1615440545775        26.50   \n",
       "...                                     ... ..            ...          ...   \n",
       "27820  dd2361c0-7a3d-11ec-a439-89feef661f3b  9  1649145700068        27.00   \n",
       "27821  dd2361c0-7a3d-11ec-a439-89feef661f3b  9  1649145760133        24.00   \n",
       "27822  dd2361c0-7a3d-11ec-a439-89feef661f3b  9  1649146139937        29.00   \n",
       "27823  dd2361c0-7a3d-11ec-a439-89feef661f3b  9  1649146339967        27.00   \n",
       "27824  57bbb820-a364-11ec-a439-89feef661f3b  9  1649146399984        23.50   \n",
       "\n",
       "                                 Datetime  \n",
       "0     2021-03-11 13:29:03.668999936+08:00  \n",
       "1     2021-03-11 13:29:04.134000128+08:00  \n",
       "2     2021-03-11 13:29:04.440999936+08:00  \n",
       "3        2021-03-11 13:29:05.228000+08:00  \n",
       "4     2021-03-11 13:29:05.775000064+08:00  \n",
       "...                                   ...  \n",
       "27820    2022-04-05 16:01:40.068000+08:00  \n",
       "27821 2022-04-05 16:02:40.132999936+08:00  \n",
       "27822 2022-04-05 16:08:59.936999936+08:00  \n",
       "27823 2022-04-05 16:12:19.967000064+08:00  \n",
       "27824    2022-04-05 16:13:19.984000+08:00  \n",
       "\n",
       "[27825 rows x 5 columns]"
      ]
     },
     "execution_count": 2,
     "metadata": {},
     "output_type": "execute_result"
    }
   ],
   "source": [
    "df = pd.read_csv(r\"dataset/temp_cleaned_v3_nooutliers.csv\",parse_dates=['Datetime'])\n",
    "df"
   ]
  },
  {
   "cell_type": "code",
   "execution_count": 3,
   "metadata": {},
   "outputs": [
    {
     "data": {
      "text/html": [
       "<div>\n",
       "<style scoped>\n",
       "    .dataframe tbody tr th:only-of-type {\n",
       "        vertical-align: middle;\n",
       "    }\n",
       "\n",
       "    .dataframe tbody tr th {\n",
       "        vertical-align: top;\n",
       "    }\n",
       "\n",
       "    .dataframe thead th {\n",
       "        text-align: right;\n",
       "    }\n",
       "</style>\n",
       "<table border=\"1\" class=\"dataframe\">\n",
       "  <thead>\n",
       "    <tr style=\"text-align: right;\">\n",
       "      <th></th>\n",
       "      <th>A</th>\n",
       "      <th>B</th>\n",
       "      <th>Epoch</th>\n",
       "      <th>Temperature</th>\n",
       "      <th>Datetime</th>\n",
       "    </tr>\n",
       "    <tr>\n",
       "      <th>Datetime</th>\n",
       "      <th></th>\n",
       "      <th></th>\n",
       "      <th></th>\n",
       "      <th></th>\n",
       "      <th></th>\n",
       "    </tr>\n",
       "  </thead>\n",
       "  <tbody>\n",
       "    <tr>\n",
       "      <th>2021-03-11 13:29:03.668999936+08:00</th>\n",
       "      <td>12ebf5b0-01a8-11ec-9de6-b597d786564a</td>\n",
       "      <td>9</td>\n",
       "      <td>1615440543669</td>\n",
       "      <td>26.35</td>\n",
       "      <td>2021-03-11 13:29:03.668999936+08:00</td>\n",
       "    </tr>\n",
       "    <tr>\n",
       "      <th>2021-03-11 13:29:04.134000128+08:00</th>\n",
       "      <td>12ebf5b0-01a8-11ec-9de6-b597d786564a</td>\n",
       "      <td>9</td>\n",
       "      <td>1615440544134</td>\n",
       "      <td>26.43</td>\n",
       "      <td>2021-03-11 13:29:04.134000128+08:00</td>\n",
       "    </tr>\n",
       "    <tr>\n",
       "      <th>2021-03-11 13:29:04.440999936+08:00</th>\n",
       "      <td>12ebf5b0-01a8-11ec-9de6-b597d786564a</td>\n",
       "      <td>9</td>\n",
       "      <td>1615440544441</td>\n",
       "      <td>26.49</td>\n",
       "      <td>2021-03-11 13:29:04.440999936+08:00</td>\n",
       "    </tr>\n",
       "    <tr>\n",
       "      <th>2021-03-11 13:29:05.228000+08:00</th>\n",
       "      <td>12ebf5b0-01a8-11ec-9de6-b597d786564a</td>\n",
       "      <td>9</td>\n",
       "      <td>1615440545228</td>\n",
       "      <td>26.50</td>\n",
       "      <td>2021-03-11 13:29:05.228000+08:00</td>\n",
       "    </tr>\n",
       "    <tr>\n",
       "      <th>2021-03-11 13:29:05.775000064+08:00</th>\n",
       "      <td>12ebf5b0-01a8-11ec-9de6-b597d786564a</td>\n",
       "      <td>9</td>\n",
       "      <td>1615440545775</td>\n",
       "      <td>26.50</td>\n",
       "      <td>2021-03-11 13:29:05.775000064+08:00</td>\n",
       "    </tr>\n",
       "    <tr>\n",
       "      <th>2021-03-11 13:29:06.212999936+08:00</th>\n",
       "      <td>12ebf5b0-01a8-11ec-9de6-b597d786564a</td>\n",
       "      <td>9</td>\n",
       "      <td>1615440546213</td>\n",
       "      <td>26.60</td>\n",
       "      <td>2021-03-11 13:29:06.212999936+08:00</td>\n",
       "    </tr>\n",
       "    <tr>\n",
       "      <th>2021-03-11 13:29:07.196999936+08:00</th>\n",
       "      <td>12ebf5b0-01a8-11ec-9de6-b597d786564a</td>\n",
       "      <td>9</td>\n",
       "      <td>1615440547197</td>\n",
       "      <td>26.74</td>\n",
       "      <td>2021-03-11 13:29:07.196999936+08:00</td>\n",
       "    </tr>\n",
       "    <tr>\n",
       "      <th>2021-03-11 13:29:07.635000064+08:00</th>\n",
       "      <td>12ebf5b0-01a8-11ec-9de6-b597d786564a</td>\n",
       "      <td>9</td>\n",
       "      <td>1615440547635</td>\n",
       "      <td>26.85</td>\n",
       "      <td>2021-03-11 13:29:07.635000064+08:00</td>\n",
       "    </tr>\n",
       "    <tr>\n",
       "      <th>2021-03-11 13:29:07.961999872+08:00</th>\n",
       "      <td>12ebf5b0-01a8-11ec-9de6-b597d786564a</td>\n",
       "      <td>9</td>\n",
       "      <td>1615440547962</td>\n",
       "      <td>26.92</td>\n",
       "      <td>2021-03-11 13:29:07.961999872+08:00</td>\n",
       "    </tr>\n",
       "    <tr>\n",
       "      <th>2021-03-11 13:29:08.510000128+08:00</th>\n",
       "      <td>12ebf5b0-01a8-11ec-9de6-b597d786564a</td>\n",
       "      <td>9</td>\n",
       "      <td>1615440548510</td>\n",
       "      <td>27.13</td>\n",
       "      <td>2021-03-11 13:29:08.510000128+08:00</td>\n",
       "    </tr>\n",
       "    <tr>\n",
       "      <th>2021-03-11 13:29:09.166000128+08:00</th>\n",
       "      <td>12ebf5b0-01a8-11ec-9de6-b597d786564a</td>\n",
       "      <td>9</td>\n",
       "      <td>1615440549166</td>\n",
       "      <td>27.24</td>\n",
       "      <td>2021-03-11 13:29:09.166000128+08:00</td>\n",
       "    </tr>\n",
       "    <tr>\n",
       "      <th>2021-03-11 13:35:49.014000128+08:00</th>\n",
       "      <td>12ebf5b0-01a8-11ec-9de6-b597d786564a</td>\n",
       "      <td>9</td>\n",
       "      <td>1615440949014</td>\n",
       "      <td>27.40</td>\n",
       "      <td>2021-03-11 13:35:49.014000128+08:00</td>\n",
       "    </tr>\n",
       "    <tr>\n",
       "      <th>2021-03-11 13:40:25.716000+08:00</th>\n",
       "      <td>12ebf5b0-01a8-11ec-9de6-b597d786564a</td>\n",
       "      <td>9</td>\n",
       "      <td>1615441225716</td>\n",
       "      <td>27.46</td>\n",
       "      <td>2021-03-11 13:40:25.716000+08:00</td>\n",
       "    </tr>\n",
       "    <tr>\n",
       "      <th>2021-03-11 13:43:22.284000+08:00</th>\n",
       "      <td>12ebf5b0-01a8-11ec-9de6-b597d786564a</td>\n",
       "      <td>9</td>\n",
       "      <td>1615441402284</td>\n",
       "      <td>27.75</td>\n",
       "      <td>2021-03-11 13:43:22.284000+08:00</td>\n",
       "    </tr>\n",
       "    <tr>\n",
       "      <th>2021-03-11 13:49:15.867000064+08:00</th>\n",
       "      <td>12ebf5b0-01a8-11ec-9de6-b597d786564a</td>\n",
       "      <td>9</td>\n",
       "      <td>1615441755867</td>\n",
       "      <td>27.75</td>\n",
       "      <td>2021-03-11 13:49:15.867000064+08:00</td>\n",
       "    </tr>\n",
       "    <tr>\n",
       "      <th>2021-03-11 13:57:05.134000128+08:00</th>\n",
       "      <td>12ebf5b0-01a8-11ec-9de6-b597d786564a</td>\n",
       "      <td>9</td>\n",
       "      <td>1615442225134</td>\n",
       "      <td>27.77</td>\n",
       "      <td>2021-03-11 13:57:05.134000128+08:00</td>\n",
       "    </tr>\n",
       "    <tr>\n",
       "      <th>2021-03-11 13:57:19.860000+08:00</th>\n",
       "      <td>12ebf5b0-01a8-11ec-9de6-b597d786564a</td>\n",
       "      <td>9</td>\n",
       "      <td>1615442239860</td>\n",
       "      <td>27.22</td>\n",
       "      <td>2021-03-11 13:57:19.860000+08:00</td>\n",
       "    </tr>\n",
       "    <tr>\n",
       "      <th>2021-03-11 13:57:34.553999872+08:00</th>\n",
       "      <td>12ebf5b0-01a8-11ec-9de6-b597d786564a</td>\n",
       "      <td>9</td>\n",
       "      <td>1615442254554</td>\n",
       "      <td>26.49</td>\n",
       "      <td>2021-03-11 13:57:34.553999872+08:00</td>\n",
       "    </tr>\n",
       "    <tr>\n",
       "      <th>2021-03-11 13:57:49.256999936+08:00</th>\n",
       "      <td>12ebf5b0-01a8-11ec-9de6-b597d786564a</td>\n",
       "      <td>9</td>\n",
       "      <td>1615442269257</td>\n",
       "      <td>25.93</td>\n",
       "      <td>2021-03-11 13:57:49.256999936+08:00</td>\n",
       "    </tr>\n",
       "    <tr>\n",
       "      <th>2021-03-11 13:58:04.070000128+08:00</th>\n",
       "      <td>12ebf5b0-01a8-11ec-9de6-b597d786564a</td>\n",
       "      <td>9</td>\n",
       "      <td>1615442284070</td>\n",
       "      <td>25.82</td>\n",
       "      <td>2021-03-11 13:58:04.070000128+08:00</td>\n",
       "    </tr>\n",
       "    <tr>\n",
       "      <th>2021-03-11 13:58:19.203000064+08:00</th>\n",
       "      <td>12ebf5b0-01a8-11ec-9de6-b597d786564a</td>\n",
       "      <td>9</td>\n",
       "      <td>1615442299203</td>\n",
       "      <td>25.88</td>\n",
       "      <td>2021-03-11 13:58:19.203000064+08:00</td>\n",
       "    </tr>\n",
       "    <tr>\n",
       "      <th>2021-03-11 13:58:33.134000128+08:00</th>\n",
       "      <td>12ebf5b0-01a8-11ec-9de6-b597d786564a</td>\n",
       "      <td>9</td>\n",
       "      <td>1615442313134</td>\n",
       "      <td>25.86</td>\n",
       "      <td>2021-03-11 13:58:33.134000128+08:00</td>\n",
       "    </tr>\n",
       "    <tr>\n",
       "      <th>2021-03-11 13:58:48.052999936+08:00</th>\n",
       "      <td>12ebf5b0-01a8-11ec-9de6-b597d786564a</td>\n",
       "      <td>9</td>\n",
       "      <td>1615442328053</td>\n",
       "      <td>25.88</td>\n",
       "      <td>2021-03-11 13:58:48.052999936+08:00</td>\n",
       "    </tr>\n",
       "    <tr>\n",
       "      <th>2021-03-11 13:59:02.644000+08:00</th>\n",
       "      <td>12ebf5b0-01a8-11ec-9de6-b597d786564a</td>\n",
       "      <td>9</td>\n",
       "      <td>1615442342644</td>\n",
       "      <td>25.90</td>\n",
       "      <td>2021-03-11 13:59:02.644000+08:00</td>\n",
       "    </tr>\n",
       "    <tr>\n",
       "      <th>2021-03-11 13:59:17.556999936+08:00</th>\n",
       "      <td>12ebf5b0-01a8-11ec-9de6-b597d786564a</td>\n",
       "      <td>9</td>\n",
       "      <td>1615442357557</td>\n",
       "      <td>25.94</td>\n",
       "      <td>2021-03-11 13:59:17.556999936+08:00</td>\n",
       "    </tr>\n",
       "    <tr>\n",
       "      <th>2021-03-11 13:59:32.040000+08:00</th>\n",
       "      <td>12ebf5b0-01a8-11ec-9de6-b597d786564a</td>\n",
       "      <td>9</td>\n",
       "      <td>1615442372040</td>\n",
       "      <td>25.94</td>\n",
       "      <td>2021-03-11 13:59:32.040000+08:00</td>\n",
       "    </tr>\n",
       "  </tbody>\n",
       "</table>\n",
       "</div>"
      ],
      "text/plain": [
       "                                                                        A  B  \\\n",
       "Datetime                                                                       \n",
       "2021-03-11 13:29:03.668999936+08:00  12ebf5b0-01a8-11ec-9de6-b597d786564a  9   \n",
       "2021-03-11 13:29:04.134000128+08:00  12ebf5b0-01a8-11ec-9de6-b597d786564a  9   \n",
       "2021-03-11 13:29:04.440999936+08:00  12ebf5b0-01a8-11ec-9de6-b597d786564a  9   \n",
       "2021-03-11 13:29:05.228000+08:00     12ebf5b0-01a8-11ec-9de6-b597d786564a  9   \n",
       "2021-03-11 13:29:05.775000064+08:00  12ebf5b0-01a8-11ec-9de6-b597d786564a  9   \n",
       "2021-03-11 13:29:06.212999936+08:00  12ebf5b0-01a8-11ec-9de6-b597d786564a  9   \n",
       "2021-03-11 13:29:07.196999936+08:00  12ebf5b0-01a8-11ec-9de6-b597d786564a  9   \n",
       "2021-03-11 13:29:07.635000064+08:00  12ebf5b0-01a8-11ec-9de6-b597d786564a  9   \n",
       "2021-03-11 13:29:07.961999872+08:00  12ebf5b0-01a8-11ec-9de6-b597d786564a  9   \n",
       "2021-03-11 13:29:08.510000128+08:00  12ebf5b0-01a8-11ec-9de6-b597d786564a  9   \n",
       "2021-03-11 13:29:09.166000128+08:00  12ebf5b0-01a8-11ec-9de6-b597d786564a  9   \n",
       "2021-03-11 13:35:49.014000128+08:00  12ebf5b0-01a8-11ec-9de6-b597d786564a  9   \n",
       "2021-03-11 13:40:25.716000+08:00     12ebf5b0-01a8-11ec-9de6-b597d786564a  9   \n",
       "2021-03-11 13:43:22.284000+08:00     12ebf5b0-01a8-11ec-9de6-b597d786564a  9   \n",
       "2021-03-11 13:49:15.867000064+08:00  12ebf5b0-01a8-11ec-9de6-b597d786564a  9   \n",
       "2021-03-11 13:57:05.134000128+08:00  12ebf5b0-01a8-11ec-9de6-b597d786564a  9   \n",
       "2021-03-11 13:57:19.860000+08:00     12ebf5b0-01a8-11ec-9de6-b597d786564a  9   \n",
       "2021-03-11 13:57:34.553999872+08:00  12ebf5b0-01a8-11ec-9de6-b597d786564a  9   \n",
       "2021-03-11 13:57:49.256999936+08:00  12ebf5b0-01a8-11ec-9de6-b597d786564a  9   \n",
       "2021-03-11 13:58:04.070000128+08:00  12ebf5b0-01a8-11ec-9de6-b597d786564a  9   \n",
       "2021-03-11 13:58:19.203000064+08:00  12ebf5b0-01a8-11ec-9de6-b597d786564a  9   \n",
       "2021-03-11 13:58:33.134000128+08:00  12ebf5b0-01a8-11ec-9de6-b597d786564a  9   \n",
       "2021-03-11 13:58:48.052999936+08:00  12ebf5b0-01a8-11ec-9de6-b597d786564a  9   \n",
       "2021-03-11 13:59:02.644000+08:00     12ebf5b0-01a8-11ec-9de6-b597d786564a  9   \n",
       "2021-03-11 13:59:17.556999936+08:00  12ebf5b0-01a8-11ec-9de6-b597d786564a  9   \n",
       "2021-03-11 13:59:32.040000+08:00     12ebf5b0-01a8-11ec-9de6-b597d786564a  9   \n",
       "\n",
       "                                             Epoch  Temperature  \\\n",
       "Datetime                                                          \n",
       "2021-03-11 13:29:03.668999936+08:00  1615440543669        26.35   \n",
       "2021-03-11 13:29:04.134000128+08:00  1615440544134        26.43   \n",
       "2021-03-11 13:29:04.440999936+08:00  1615440544441        26.49   \n",
       "2021-03-11 13:29:05.228000+08:00     1615440545228        26.50   \n",
       "2021-03-11 13:29:05.775000064+08:00  1615440545775        26.50   \n",
       "2021-03-11 13:29:06.212999936+08:00  1615440546213        26.60   \n",
       "2021-03-11 13:29:07.196999936+08:00  1615440547197        26.74   \n",
       "2021-03-11 13:29:07.635000064+08:00  1615440547635        26.85   \n",
       "2021-03-11 13:29:07.961999872+08:00  1615440547962        26.92   \n",
       "2021-03-11 13:29:08.510000128+08:00  1615440548510        27.13   \n",
       "2021-03-11 13:29:09.166000128+08:00  1615440549166        27.24   \n",
       "2021-03-11 13:35:49.014000128+08:00  1615440949014        27.40   \n",
       "2021-03-11 13:40:25.716000+08:00     1615441225716        27.46   \n",
       "2021-03-11 13:43:22.284000+08:00     1615441402284        27.75   \n",
       "2021-03-11 13:49:15.867000064+08:00  1615441755867        27.75   \n",
       "2021-03-11 13:57:05.134000128+08:00  1615442225134        27.77   \n",
       "2021-03-11 13:57:19.860000+08:00     1615442239860        27.22   \n",
       "2021-03-11 13:57:34.553999872+08:00  1615442254554        26.49   \n",
       "2021-03-11 13:57:49.256999936+08:00  1615442269257        25.93   \n",
       "2021-03-11 13:58:04.070000128+08:00  1615442284070        25.82   \n",
       "2021-03-11 13:58:19.203000064+08:00  1615442299203        25.88   \n",
       "2021-03-11 13:58:33.134000128+08:00  1615442313134        25.86   \n",
       "2021-03-11 13:58:48.052999936+08:00  1615442328053        25.88   \n",
       "2021-03-11 13:59:02.644000+08:00     1615442342644        25.90   \n",
       "2021-03-11 13:59:17.556999936+08:00  1615442357557        25.94   \n",
       "2021-03-11 13:59:32.040000+08:00     1615442372040        25.94   \n",
       "\n",
       "                                                               Datetime  \n",
       "Datetime                                                                 \n",
       "2021-03-11 13:29:03.668999936+08:00 2021-03-11 13:29:03.668999936+08:00  \n",
       "2021-03-11 13:29:04.134000128+08:00 2021-03-11 13:29:04.134000128+08:00  \n",
       "2021-03-11 13:29:04.440999936+08:00 2021-03-11 13:29:04.440999936+08:00  \n",
       "2021-03-11 13:29:05.228000+08:00       2021-03-11 13:29:05.228000+08:00  \n",
       "2021-03-11 13:29:05.775000064+08:00 2021-03-11 13:29:05.775000064+08:00  \n",
       "2021-03-11 13:29:06.212999936+08:00 2021-03-11 13:29:06.212999936+08:00  \n",
       "2021-03-11 13:29:07.196999936+08:00 2021-03-11 13:29:07.196999936+08:00  \n",
       "2021-03-11 13:29:07.635000064+08:00 2021-03-11 13:29:07.635000064+08:00  \n",
       "2021-03-11 13:29:07.961999872+08:00 2021-03-11 13:29:07.961999872+08:00  \n",
       "2021-03-11 13:29:08.510000128+08:00 2021-03-11 13:29:08.510000128+08:00  \n",
       "2021-03-11 13:29:09.166000128+08:00 2021-03-11 13:29:09.166000128+08:00  \n",
       "2021-03-11 13:35:49.014000128+08:00 2021-03-11 13:35:49.014000128+08:00  \n",
       "2021-03-11 13:40:25.716000+08:00       2021-03-11 13:40:25.716000+08:00  \n",
       "2021-03-11 13:43:22.284000+08:00       2021-03-11 13:43:22.284000+08:00  \n",
       "2021-03-11 13:49:15.867000064+08:00 2021-03-11 13:49:15.867000064+08:00  \n",
       "2021-03-11 13:57:05.134000128+08:00 2021-03-11 13:57:05.134000128+08:00  \n",
       "2021-03-11 13:57:19.860000+08:00       2021-03-11 13:57:19.860000+08:00  \n",
       "2021-03-11 13:57:34.553999872+08:00 2021-03-11 13:57:34.553999872+08:00  \n",
       "2021-03-11 13:57:49.256999936+08:00 2021-03-11 13:57:49.256999936+08:00  \n",
       "2021-03-11 13:58:04.070000128+08:00 2021-03-11 13:58:04.070000128+08:00  \n",
       "2021-03-11 13:58:19.203000064+08:00 2021-03-11 13:58:19.203000064+08:00  \n",
       "2021-03-11 13:58:33.134000128+08:00 2021-03-11 13:58:33.134000128+08:00  \n",
       "2021-03-11 13:58:48.052999936+08:00 2021-03-11 13:58:48.052999936+08:00  \n",
       "2021-03-11 13:59:02.644000+08:00       2021-03-11 13:59:02.644000+08:00  \n",
       "2021-03-11 13:59:17.556999936+08:00 2021-03-11 13:59:17.556999936+08:00  \n",
       "2021-03-11 13:59:32.040000+08:00       2021-03-11 13:59:32.040000+08:00  "
      ]
     },
     "execution_count": 3,
     "metadata": {},
     "output_type": "execute_result"
    }
   ],
   "source": [
    "df.index = pd.to_datetime(df['Datetime'], infer_datetime_format=True)\n",
    "df[:26]"
   ]
  },
  {
   "cell_type": "code",
   "execution_count": 4,
   "metadata": {},
   "outputs": [
    {
     "data": {
      "text/plain": [
       "<AxesSubplot:xlabel='Datetime'>"
      ]
     },
     "execution_count": 4,
     "metadata": {},
     "output_type": "execute_result"
    },
    {
     "data": {
      "image/png": "[encoded data removed]",
      "text/plain": [
       "<Figure size 432x288 with 1 Axes>"
      ]
     },
     "metadata": {
      "needs_background": "light"
     },
     "output_type": "display_data"
    }
   ],
   "source": [
    "temp = df['Temperature']\n",
    "temp.plot()                     "
   ]
  },
  {
   "cell_type": "code",
   "execution_count": 5,
   "metadata": {},
   "outputs": [],
   "source": [
    "def df_to_X_y(df, window_size=5):\n",
    "    df_as_np  = df.to_numpy()\n",
    "    X= []\n",
    "    y= []\n",
    "    for i in range(len(df_as_np)- window_size):\n",
    "        row = [[a] for a in df_as_np[i:i+5]]\n",
    "        X.append(row)\n",
    "        label = df_as_np[i+5]\n",
    "        y.append(label)\n",
    "    return np.array(X), np.array(y)"
   ]
  },
  {
   "cell_type": "code",
   "execution_count": 6,
   "metadata": {},
   "outputs": [
    {
     "data": {
      "text/plain": [
       "((27820, 5, 1), (27820,))"
      ]
     },
     "execution_count": 6,
     "metadata": {},
     "output_type": "execute_result"
    }
   ],
   "source": [
    "WINDOW_SIZE = 5\n",
    "X, y = df_to_X_y(temp, WINDOW_SIZE)\n",
    "X.shape, y.shape"
   ]
  },
  {
   "cell_type": "code",
   "execution_count": 7,
   "metadata": {},
   "outputs": [
    {
     "data": {
      "text/plain": [
       "((20000, 5, 1), (20000,), (4000, 5, 1), (4000,), (3820, 5, 1), (3820,))"
      ]
     },
     "execution_count": 7,
     "metadata": {},
     "output_type": "execute_result"
    }
   ],
   "source": [
    "#Split the data to train and test set\n",
    "X_train, y_train = X[:20000], y[:20000]\n",
    "X_val, y_val = X[20000:24000], y[20000:24000]\n",
    "X_test, y_test = X[24000:], y[24000:]\n",
    "X_train.shape, y_train.shape, X_val.shape, y_val.shape, X_test.shape, y_test.shape"
   ]
  },
  {
   "cell_type": "code",
   "execution_count": 8,
   "metadata": {},
   "outputs": [
    {
     "name": "stdout",
     "output_type": "stream",
     "text": [
      "Model: \"sequential\"\n",
      "_________________________________________________________________\n",
      "Layer (type)                 Output Shape              Param #   \n",
      "=================================================================\n",
      "lstm (LSTM)                  (None, 64)                16896     \n",
      "_________________________________________________________________\n",
      "dense (Dense)                (None, 8)                 520       \n",
      "_________________________________________________________________\n",
      "dense_1 (Dense)              (None, 1)                 9         \n",
      "=================================================================\n",
      "Total params: 17,425\n",
      "Trainable params: 17,425\n",
      "Non-trainable params: 0\n",
      "_________________________________________________________________\n"
     ]
    }
   ],
   "source": [
    "from tensorflow.keras.models import Sequential\n",
    "from tensorflow.keras.layers import *\n",
    "from tensorflow.keras.callbacks import ModelCheckpoint\n",
    "from tensorflow.keras.losses import MeanSquaredError\n",
    "from tensorflow.keras.metrics import RootMeanSquaredError\n",
    "from tensorflow.keras.optimizers import Adam\n",
    "\n",
    "model1 = Sequential()\n",
    "model1.add(InputLayer((5,1)))\n",
    "model1.add(LSTM((64)))\n",
    "model1.add(Dense(8,'relu'))\n",
    "model1.add(Dense(1,'linear'))\n",
    "\n",
    "\n",
    "model1.summary()"
   ]
  },
  {
   "cell_type": "code",
   "execution_count": 9,
   "metadata": {},
   "outputs": [],
   "source": [
    "cp = ModelCheckpoint('model1/',save_best_only=True)\n",
    "\n",
    "\n",
    "model1.compile(loss='mean_absolute_error', optimizer=Adam(learning_rate=0.0001), metrics=[RootMeanSquaredError()])\n"
   ]
  },
  {
   "cell_type": "code",
   "execution_count": 10,
   "metadata": {},
   "outputs": [
    {
     "name": "stdout",
     "output_type": "stream",
     "text": [
      "Epoch 1/10\n",
      "625/625 [==============================] - 3s 3ms/step - loss: 21.2292 - root_mean_squared_error: 21.7901 - val_loss: 15.8109 - val_root_mean_squared_error: 16.0024\n"
     ]
    },
    {
     "name": "stderr",
     "output_type": "stream",
     "text": [
      "WARNING:absl:Found untraced functions such as lstm_cell_layer_call_fn, lstm_cell_layer_call_and_return_conditional_losses, lstm_cell_layer_call_fn, lstm_cell_layer_call_and_return_conditional_losses, lstm_cell_layer_call_and_return_conditional_losses while saving (showing 5 of 5). These functions will not be directly callable after loading.\n"
     ]
    },
    {
     "name": "stdout",
     "output_type": "stream",
     "text": [
      "INFO:tensorflow:Assets written to: model1\\assets\n"
     ]
    },
    {
     "name": "stderr",
     "output_type": "stream",
     "text": [
      "INFO:tensorflow:Assets written to: model1\\assets\n"
     ]
    },
    {
     "name": "stdout",
     "output_type": "stream",
     "text": [
      "Epoch 2/10\n",
      "625/625 [==============================] - 2s 3ms/step - loss: 10.3172 - root_mean_squared_error: 11.2136 - val_loss: 6.4438 - val_root_mean_squared_error: 6.8909\n"
     ]
    },
    {
     "name": "stderr",
     "output_type": "stream",
     "text": [
      "WARNING:absl:Found untraced functions such as lstm_cell_layer_call_fn, lstm_cell_layer_call_and_return_conditional_losses, lstm_cell_layer_call_fn, lstm_cell_layer_call_and_return_conditional_losses, lstm_cell_layer_call_and_return_conditional_losses while saving (showing 5 of 5). These functions will not be directly callable after loading.\n"
     ]
    },
    {
     "name": "stdout",
     "output_type": "stream",
     "text": [
      "INFO:tensorflow:Assets written to: model1\\assets\n"
     ]
    },
    {
     "name": "stderr",
     "output_type": "stream",
     "text": [
      "INFO:tensorflow:Assets written to: model1\\assets\n"
     ]
    },
    {
     "name": "stdout",
     "output_type": "stream",
     "text": [
      "Epoch 3/10\n",
      "625/625 [==============================] - 1s 2ms/step - loss: 3.9369 - root_mean_squared_error: 4.7682 - val_loss: 2.1180 - val_root_mean_squared_error: 2.6466\n"
     ]
    },
    {
     "name": "stderr",
     "output_type": "stream",
     "text": [
      "WARNING:absl:Found untraced functions such as lstm_cell_layer_call_fn, lstm_cell_layer_call_and_return_conditional_losses, lstm_cell_layer_call_fn, lstm_cell_layer_call_and_return_conditional_losses, lstm_cell_layer_call_and_return_conditional_losses while saving (showing 5 of 5). These functions will not be directly callable after loading.\n"
     ]
    },
    {
     "name": "stdout",
     "output_type": "stream",
     "text": [
      "INFO:tensorflow:Assets written to: model1\\assets\n"
     ]
    },
    {
     "name": "stderr",
     "output_type": "stream",
     "text": [
      "INFO:tensorflow:Assets written to: model1\\assets\n"
     ]
    },
    {
     "name": "stdout",
     "output_type": "stream",
     "text": [
      "Epoch 4/10\n",
      "625/625 [==============================] - 1s 2ms/step - loss: 2.7453 - root_mean_squared_error: 3.4826 - val_loss: 1.8941 - val_root_mean_squared_error: 2.3124\n"
     ]
    },
    {
     "name": "stderr",
     "output_type": "stream",
     "text": [
      "WARNING:absl:Found untraced functions such as lstm_cell_layer_call_fn, lstm_cell_layer_call_and_return_conditional_losses, lstm_cell_layer_call_fn, lstm_cell_layer_call_and_return_conditional_losses, lstm_cell_layer_call_and_return_conditional_losses while saving (showing 5 of 5). These functions will not be directly callable after loading.\n"
     ]
    },
    {
     "name": "stdout",
     "output_type": "stream",
     "text": [
      "INFO:tensorflow:Assets written to: model1\\assets\n"
     ]
    },
    {
     "name": "stderr",
     "output_type": "stream",
     "text": [
      "INFO:tensorflow:Assets written to: model1\\assets\n"
     ]
    },
    {
     "name": "stdout",
     "output_type": "stream",
     "text": [
      "Epoch 5/10\n",
      "625/625 [==============================] - 1s 2ms/step - loss: 1.4788 - root_mean_squared_error: 2.1246 - val_loss: 1.5938 - val_root_mean_squared_error: 2.0902\n"
     ]
    },
    {
     "name": "stderr",
     "output_type": "stream",
     "text": [
      "WARNING:absl:Found untraced functions such as lstm_cell_layer_call_fn, lstm_cell_layer_call_and_return_conditional_losses, lstm_cell_layer_call_fn, lstm_cell_layer_call_and_return_conditional_losses, lstm_cell_layer_call_and_return_conditional_losses while saving (showing 5 of 5). These functions will not be directly callable after loading.\n"
     ]
    },
    {
     "name": "stdout",
     "output_type": "stream",
     "text": [
      "INFO:tensorflow:Assets written to: model1\\assets\n"
     ]
    },
    {
     "name": "stderr",
     "output_type": "stream",
     "text": [
      "INFO:tensorflow:Assets written to: model1\\assets\n"
     ]
    },
    {
     "name": "stdout",
     "output_type": "stream",
     "text": [
      "Epoch 6/10\n",
      "625/625 [==============================] - 1s 2ms/step - loss: 0.7594 - root_mean_squared_error: 1.4848 - val_loss: 1.5476 - val_root_mean_squared_error: 2.0753\n"
     ]
    },
    {
     "name": "stderr",
     "output_type": "stream",
     "text": [
      "WARNING:absl:Found untraced functions such as lstm_cell_layer_call_fn, lstm_cell_layer_call_and_return_conditional_losses, lstm_cell_layer_call_fn, lstm_cell_layer_call_and_return_conditional_losses, lstm_cell_layer_call_and_return_conditional_losses while saving (showing 5 of 5). These functions will not be directly callable after loading.\n"
     ]
    },
    {
     "name": "stdout",
     "output_type": "stream",
     "text": [
      "INFO:tensorflow:Assets written to: model1\\assets\n"
     ]
    },
    {
     "name": "stderr",
     "output_type": "stream",
     "text": [
      "INFO:tensorflow:Assets written to: model1\\assets\n"
     ]
    },
    {
     "name": "stdout",
     "output_type": "stream",
     "text": [
      "Epoch 7/10\n",
      "625/625 [==============================] - 1s 2ms/step - loss: 0.6498 - root_mean_squared_error: 1.4434 - val_loss: 1.5442 - val_root_mean_squared_error: 2.0783\n"
     ]
    },
    {
     "name": "stderr",
     "output_type": "stream",
     "text": [
      "WARNING:absl:Found untraced functions such as lstm_cell_layer_call_fn, lstm_cell_layer_call_and_return_conditional_losses, lstm_cell_layer_call_fn, lstm_cell_layer_call_and_return_conditional_losses, lstm_cell_layer_call_and_return_conditional_losses while saving (showing 5 of 5). These functions will not be directly callable after loading.\n"
     ]
    },
    {
     "name": "stdout",
     "output_type": "stream",
     "text": [
      "INFO:tensorflow:Assets written to: model1\\assets\n"
     ]
    },
    {
     "name": "stderr",
     "output_type": "stream",
     "text": [
      "INFO:tensorflow:Assets written to: model1\\assets\n"
     ]
    },
    {
     "name": "stdout",
     "output_type": "stream",
     "text": [
      "Epoch 8/10\n",
      "625/625 [==============================] - 1s 2ms/step - loss: 0.6321 - root_mean_squared_error: 1.4413 - val_loss: 1.5345 - val_root_mean_squared_error: 2.0768\n"
     ]
    },
    {
     "name": "stderr",
     "output_type": "stream",
     "text": [
      "WARNING:absl:Found untraced functions such as lstm_cell_layer_call_fn, lstm_cell_layer_call_and_return_conditional_losses, lstm_cell_layer_call_fn, lstm_cell_layer_call_and_return_conditional_losses, lstm_cell_layer_call_and_return_conditional_losses while saving (showing 5 of 5). These functions will not be directly callable after loading.\n"
     ]
    },
    {
     "name": "stdout",
     "output_type": "stream",
     "text": [
      "INFO:tensorflow:Assets written to: model1\\assets\n"
     ]
    },
    {
     "name": "stderr",
     "output_type": "stream",
     "text": [
      "INFO:tensorflow:Assets written to: model1\\assets\n"
     ]
    },
    {
     "name": "stdout",
     "output_type": "stream",
     "text": [
      "Epoch 9/10\n",
      "625/625 [==============================] - 1s 2ms/step - loss: 0.6249 - root_mean_squared_error: 1.4395 - val_loss: 1.5341 - val_root_mean_squared_error: 2.0784\n"
     ]
    },
    {
     "name": "stderr",
     "output_type": "stream",
     "text": [
      "WARNING:absl:Found untraced functions such as lstm_cell_layer_call_fn, lstm_cell_layer_call_and_return_conditional_losses, lstm_cell_layer_call_fn, lstm_cell_layer_call_and_return_conditional_losses, lstm_cell_layer_call_and_return_conditional_losses while saving (showing 5 of 5). These functions will not be directly callable after loading.\n"
     ]
    },
    {
     "name": "stdout",
     "output_type": "stream",
     "text": [
      "INFO:tensorflow:Assets written to: model1\\assets\n"
     ]
    },
    {
     "name": "stderr",
     "output_type": "stream",
     "text": [
      "INFO:tensorflow:Assets written to: model1\\assets\n"
     ]
    },
    {
     "name": "stdout",
     "output_type": "stream",
     "text": [
      "Epoch 10/10\n",
      "625/625 [==============================] - 1s 2ms/step - loss: 0.6211 - root_mean_squared_error: 1.4381 - val_loss: 1.5356 - val_root_mean_squared_error: 2.0784\n"
     ]
    },
    {
     "data": {
      "text/plain": [
       "<tensorflow.python.keras.callbacks.History at 0x24396b210a0>"
      ]
     },
     "execution_count": 10,
     "metadata": {},
     "output_type": "execute_result"
    }
   ],
   "source": [
    "model1.fit(X_train,y_train, validation_data=(X_val,y_val),epochs=10, callbacks=[cp])                                            "
   ]
  },
  {
   "cell_type": "code",
   "execution_count": 11,
   "metadata": {},
   "outputs": [],
   "source": [
    "model1.save('nooutlier_keras.h5')"
   ]
  },
  {
   "cell_type": "code",
   "execution_count": 12,
   "metadata": {},
   "outputs": [],
   "source": [
    "from tensorflow.keras.models import load_model\n",
    "model1 = load_model('model1/')"
   ]
  },
  {
   "cell_type": "code",
   "execution_count": 13,
   "metadata": {},
   "outputs": [
    {
     "data": {
      "text/html": [
       "<div>\n",
       "<style scoped>\n",
       "    .dataframe tbody tr th:only-of-type {\n",
       "        vertical-align: middle;\n",
       "    }\n",
       "\n",
       "    .dataframe tbody tr th {\n",
       "        vertical-align: top;\n",
       "    }\n",
       "\n",
       "    .dataframe thead th {\n",
       "        text-align: right;\n",
       "    }\n",
       "</style>\n",
       "<table border=\"1\" class=\"dataframe\">\n",
       "  <thead>\n",
       "    <tr style=\"text-align: right;\">\n",
       "      <th></th>\n",
       "      <th>Train Predictions</th>\n",
       "      <th>Actuals</th>\n",
       "    </tr>\n",
       "  </thead>\n",
       "  <tbody>\n",
       "    <tr>\n",
       "      <th>0</th>\n",
       "      <td>26.486408</td>\n",
       "      <td>26.60</td>\n",
       "    </tr>\n",
       "    <tr>\n",
       "      <th>1</th>\n",
       "      <td>26.529726</td>\n",
       "      <td>26.74</td>\n",
       "    </tr>\n",
       "    <tr>\n",
       "      <th>2</th>\n",
       "      <td>26.607470</td>\n",
       "      <td>26.85</td>\n",
       "    </tr>\n",
       "    <tr>\n",
       "      <th>3</th>\n",
       "      <td>26.714327</td>\n",
       "      <td>26.92</td>\n",
       "    </tr>\n",
       "    <tr>\n",
       "      <th>4</th>\n",
       "      <td>26.815983</td>\n",
       "      <td>27.13</td>\n",
       "    </tr>\n",
       "    <tr>\n",
       "      <th>...</th>\n",
       "      <td>...</td>\n",
       "      <td>...</td>\n",
       "    </tr>\n",
       "    <tr>\n",
       "      <th>19995</th>\n",
       "      <td>29.987711</td>\n",
       "      <td>30.00</td>\n",
       "    </tr>\n",
       "    <tr>\n",
       "      <th>19996</th>\n",
       "      <td>29.987711</td>\n",
       "      <td>30.00</td>\n",
       "    </tr>\n",
       "    <tr>\n",
       "      <th>19997</th>\n",
       "      <td>29.987711</td>\n",
       "      <td>30.00</td>\n",
       "    </tr>\n",
       "    <tr>\n",
       "      <th>19998</th>\n",
       "      <td>29.987713</td>\n",
       "      <td>30.00</td>\n",
       "    </tr>\n",
       "    <tr>\n",
       "      <th>19999</th>\n",
       "      <td>29.987713</td>\n",
       "      <td>30.00</td>\n",
       "    </tr>\n",
       "  </tbody>\n",
       "</table>\n",
       "<p>20000 rows × 2 columns</p>\n",
       "</div>"
      ],
      "text/plain": [
       "       Train Predictions  Actuals\n",
       "0              26.486408    26.60\n",
       "1              26.529726    26.74\n",
       "2              26.607470    26.85\n",
       "3              26.714327    26.92\n",
       "4              26.815983    27.13\n",
       "...                  ...      ...\n",
       "19995          29.987711    30.00\n",
       "19996          29.987711    30.00\n",
       "19997          29.987711    30.00\n",
       "19998          29.987713    30.00\n",
       "19999          29.987713    30.00\n",
       "\n",
       "[20000 rows x 2 columns]"
      ]
     },
     "execution_count": 13,
     "metadata": {},
     "output_type": "execute_result"
    }
   ],
   "source": [
    "train_predictions = model1.predict(X_train).flatten()\n",
    "train_results = pd.DataFrame(data={'Train Predictions':train_predictions, 'Actuals': y_train})\n",
    "train_results"
   ]
  },
  {
   "cell_type": "code",
   "execution_count": 14,
   "metadata": {},
   "outputs": [
    {
     "data": {
      "text/plain": [
       "[<matplotlib.lines.Line2D at 0x243a359d820>]"
      ]
     },
     "execution_count": 14,
     "metadata": {},
     "output_type": "execute_result"
    },
    {
     "data": {
      "image/png": "[encoded data removed]",
      "text/plain": [
       "<Figure size 432x288 with 1 Axes>"
      ]
     },
     "metadata": {
      "needs_background": "light"
     },
     "output_type": "display_data"
    }
   ],
   "source": [
    "import matplotlib.pyplot as plt\n",
    "plt.plot(train_results['Train Predictions'][:100])\n",
    "plt.plot(train_results['Actuals'][:100])"
   ]
  },
  {
   "cell_type": "code",
   "execution_count": 15,
   "metadata": {},
   "outputs": [
    {
     "data": {
      "text/html": [
       "<div>\n",
       "<style scoped>\n",
       "    .dataframe tbody tr th:only-of-type {\n",
       "        vertical-align: middle;\n",
       "    }\n",
       "\n",
       "    .dataframe tbody tr th {\n",
       "        vertical-align: top;\n",
       "    }\n",
       "\n",
       "    .dataframe thead th {\n",
       "        text-align: right;\n",
       "    }\n",
       "</style>\n",
       "<table border=\"1\" class=\"dataframe\">\n",
       "  <thead>\n",
       "    <tr style=\"text-align: right;\">\n",
       "      <th></th>\n",
       "      <th>Val predictions</th>\n",
       "      <th>Actuals</th>\n",
       "    </tr>\n",
       "  </thead>\n",
       "  <tbody>\n",
       "    <tr>\n",
       "      <th>0</th>\n",
       "      <td>29.987711</td>\n",
       "      <td>30.0</td>\n",
       "    </tr>\n",
       "    <tr>\n",
       "      <th>1</th>\n",
       "      <td>29.987711</td>\n",
       "      <td>30.0</td>\n",
       "    </tr>\n",
       "    <tr>\n",
       "      <th>2</th>\n",
       "      <td>29.987711</td>\n",
       "      <td>30.0</td>\n",
       "    </tr>\n",
       "    <tr>\n",
       "      <th>3</th>\n",
       "      <td>29.987711</td>\n",
       "      <td>30.0</td>\n",
       "    </tr>\n",
       "    <tr>\n",
       "      <th>4</th>\n",
       "      <td>29.987711</td>\n",
       "      <td>30.0</td>\n",
       "    </tr>\n",
       "    <tr>\n",
       "      <th>...</th>\n",
       "      <td>...</td>\n",
       "      <td>...</td>\n",
       "    </tr>\n",
       "    <tr>\n",
       "      <th>3995</th>\n",
       "      <td>22.356663</td>\n",
       "      <td>22.0</td>\n",
       "    </tr>\n",
       "    <tr>\n",
       "      <th>3996</th>\n",
       "      <td>22.103424</td>\n",
       "      <td>22.0</td>\n",
       "    </tr>\n",
       "    <tr>\n",
       "      <th>3997</th>\n",
       "      <td>22.013390</td>\n",
       "      <td>22.0</td>\n",
       "    </tr>\n",
       "    <tr>\n",
       "      <th>3998</th>\n",
       "      <td>22.013388</td>\n",
       "      <td>22.0</td>\n",
       "    </tr>\n",
       "    <tr>\n",
       "      <th>3999</th>\n",
       "      <td>22.013388</td>\n",
       "      <td>22.0</td>\n",
       "    </tr>\n",
       "  </tbody>\n",
       "</table>\n",
       "<p>4000 rows × 2 columns</p>\n",
       "</div>"
      ],
      "text/plain": [
       "      Val predictions  Actuals\n",
       "0           29.987711     30.0\n",
       "1           29.987711     30.0\n",
       "2           29.987711     30.0\n",
       "3           29.987711     30.0\n",
       "4           29.987711     30.0\n",
       "...               ...      ...\n",
       "3995        22.356663     22.0\n",
       "3996        22.103424     22.0\n",
       "3997        22.013390     22.0\n",
       "3998        22.013388     22.0\n",
       "3999        22.013388     22.0\n",
       "\n",
       "[4000 rows x 2 columns]"
      ]
     },
     "execution_count": 15,
     "metadata": {},
     "output_type": "execute_result"
    }
   ],
   "source": [
    "val_predictions = model1.predict(X_val).flatten()\n",
    "val_results = pd.DataFrame(data = {'Val predictions': val_predictions, 'Actuals': y_val})\n",
    "val_results"
   ]
  },
  {
   "cell_type": "code",
   "execution_count": 16,
   "metadata": {},
   "outputs": [
    {
     "data": {
      "text/plain": [
       "[<matplotlib.lines.Line2D at 0x2439c755370>]"
      ]
     },
     "execution_count": 16,
     "metadata": {},
     "output_type": "execute_result"
    },
    {
     "data": {
      "image/png": "[encoded data removed]",
      "text/plain": [
       "<Figure size 432x288 with 1 Axes>"
      ]
     },
     "metadata": {
      "needs_background": "light"
     },
     "output_type": "display_data"
    }
   ],
   "source": [
    "plt.plot(val_results['Val predictions'][:100])\n",
    "plt.plot(val_results['Actuals'][:100])"
   ]
  },
  {
   "cell_type": "code",
   "execution_count": 17,
   "metadata": {},
   "outputs": [
    {
     "data": {
      "text/html": [
       "<div>\n",
       "<style scoped>\n",
       "    .dataframe tbody tr th:only-of-type {\n",
       "        vertical-align: middle;\n",
       "    }\n",
       "\n",
       "    .dataframe tbody tr th {\n",
       "        vertical-align: top;\n",
       "    }\n",
       "\n",
       "    .dataframe thead th {\n",
       "        text-align: right;\n",
       "    }\n",
       "</style>\n",
       "<table border=\"1\" class=\"dataframe\">\n",
       "  <thead>\n",
       "    <tr style=\"text-align: right;\">\n",
       "      <th></th>\n",
       "      <th>Test Predictions</th>\n",
       "      <th>Actuals</th>\n",
       "    </tr>\n",
       "  </thead>\n",
       "  <tbody>\n",
       "    <tr>\n",
       "      <th>0</th>\n",
       "      <td>22.013390</td>\n",
       "      <td>22.0</td>\n",
       "    </tr>\n",
       "    <tr>\n",
       "      <th>1</th>\n",
       "      <td>22.013390</td>\n",
       "      <td>22.0</td>\n",
       "    </tr>\n",
       "    <tr>\n",
       "      <th>2</th>\n",
       "      <td>22.013390</td>\n",
       "      <td>22.0</td>\n",
       "    </tr>\n",
       "    <tr>\n",
       "      <th>3</th>\n",
       "      <td>22.013390</td>\n",
       "      <td>22.0</td>\n",
       "    </tr>\n",
       "    <tr>\n",
       "      <th>4</th>\n",
       "      <td>22.013390</td>\n",
       "      <td>22.0</td>\n",
       "    </tr>\n",
       "    <tr>\n",
       "      <th>...</th>\n",
       "      <td>...</td>\n",
       "      <td>...</td>\n",
       "    </tr>\n",
       "    <tr>\n",
       "      <th>3815</th>\n",
       "      <td>26.423182</td>\n",
       "      <td>27.0</td>\n",
       "    </tr>\n",
       "    <tr>\n",
       "      <th>3816</th>\n",
       "      <td>26.181017</td>\n",
       "      <td>24.0</td>\n",
       "    </tr>\n",
       "    <tr>\n",
       "      <th>3817</th>\n",
       "      <td>25.775389</td>\n",
       "      <td>29.0</td>\n",
       "    </tr>\n",
       "    <tr>\n",
       "      <th>3818</th>\n",
       "      <td>27.109718</td>\n",
       "      <td>27.0</td>\n",
       "    </tr>\n",
       "    <tr>\n",
       "      <th>3819</th>\n",
       "      <td>26.761868</td>\n",
       "      <td>23.5</td>\n",
       "    </tr>\n",
       "  </tbody>\n",
       "</table>\n",
       "<p>3820 rows × 2 columns</p>\n",
       "</div>"
      ],
      "text/plain": [
       "      Test Predictions  Actuals\n",
       "0            22.013390     22.0\n",
       "1            22.013390     22.0\n",
       "2            22.013390     22.0\n",
       "3            22.013390     22.0\n",
       "4            22.013390     22.0\n",
       "...                ...      ...\n",
       "3815         26.423182     27.0\n",
       "3816         26.181017     24.0\n",
       "3817         25.775389     29.0\n",
       "3818         27.109718     27.0\n",
       "3819         26.761868     23.5\n",
       "\n",
       "[3820 rows x 2 columns]"
      ]
     },
     "execution_count": 17,
     "metadata": {},
     "output_type": "execute_result"
    }
   ],
   "source": [
    "test_predictions = model1.predict(X_test).flatten()\n",
    "test_results = pd.DataFrame(data={'Test Predictions': test_predictions, 'Actuals':y_test})\n",
    "test_results"
   ]
  },
  {
   "cell_type": "code",
   "execution_count": 18,
   "metadata": {},
   "outputs": [
    {
     "data": {
      "text/html": [
       "<div>\n",
       "<style scoped>\n",
       "    .dataframe tbody tr th:only-of-type {\n",
       "        vertical-align: middle;\n",
       "    }\n",
       "\n",
       "    .dataframe tbody tr th {\n",
       "        vertical-align: top;\n",
       "    }\n",
       "\n",
       "    .dataframe thead th {\n",
       "        text-align: right;\n",
       "    }\n",
       "</style>\n",
       "<table border=\"1\" class=\"dataframe\">\n",
       "  <thead>\n",
       "    <tr style=\"text-align: right;\">\n",
       "      <th></th>\n",
       "      <th>Test Predictions</th>\n",
       "      <th>Actuals</th>\n",
       "    </tr>\n",
       "  </thead>\n",
       "  <tbody>\n",
       "    <tr>\n",
       "      <th>0</th>\n",
       "      <td>22.013390</td>\n",
       "      <td>22.0</td>\n",
       "    </tr>\n",
       "    <tr>\n",
       "      <th>1</th>\n",
       "      <td>22.013390</td>\n",
       "      <td>22.0</td>\n",
       "    </tr>\n",
       "    <tr>\n",
       "      <th>2</th>\n",
       "      <td>22.013390</td>\n",
       "      <td>22.0</td>\n",
       "    </tr>\n",
       "    <tr>\n",
       "      <th>3</th>\n",
       "      <td>22.013390</td>\n",
       "      <td>22.0</td>\n",
       "    </tr>\n",
       "    <tr>\n",
       "      <th>4</th>\n",
       "      <td>22.013390</td>\n",
       "      <td>22.0</td>\n",
       "    </tr>\n",
       "    <tr>\n",
       "      <th>...</th>\n",
       "      <td>...</td>\n",
       "      <td>...</td>\n",
       "    </tr>\n",
       "    <tr>\n",
       "      <th>95</th>\n",
       "      <td>25.011482</td>\n",
       "      <td>25.0</td>\n",
       "    </tr>\n",
       "    <tr>\n",
       "      <th>96</th>\n",
       "      <td>25.011477</td>\n",
       "      <td>25.0</td>\n",
       "    </tr>\n",
       "    <tr>\n",
       "      <th>97</th>\n",
       "      <td>25.011477</td>\n",
       "      <td>25.0</td>\n",
       "    </tr>\n",
       "    <tr>\n",
       "      <th>98</th>\n",
       "      <td>25.011477</td>\n",
       "      <td>25.0</td>\n",
       "    </tr>\n",
       "    <tr>\n",
       "      <th>99</th>\n",
       "      <td>25.011477</td>\n",
       "      <td>25.0</td>\n",
       "    </tr>\n",
       "  </tbody>\n",
       "</table>\n",
       "<p>100 rows × 2 columns</p>\n",
       "</div>"
      ],
      "text/plain": [
       "    Test Predictions  Actuals\n",
       "0          22.013390     22.0\n",
       "1          22.013390     22.0\n",
       "2          22.013390     22.0\n",
       "3          22.013390     22.0\n",
       "4          22.013390     22.0\n",
       "..               ...      ...\n",
       "95         25.011482     25.0\n",
       "96         25.011477     25.0\n",
       "97         25.011477     25.0\n",
       "98         25.011477     25.0\n",
       "99         25.011477     25.0\n",
       "\n",
       "[100 rows x 2 columns]"
      ]
     },
     "execution_count": 18,
     "metadata": {},
     "output_type": "execute_result"
    }
   ],
   "source": [
    "test_results[:100]"
   ]
  },
  {
   "cell_type": "code",
   "execution_count": 19,
   "metadata": {},
   "outputs": [
    {
     "data": {
      "text/plain": [
       "[<matplotlib.lines.Line2D at 0x243a7905a00>]"
      ]
     },
     "execution_count": 19,
     "metadata": {},
     "output_type": "execute_result"
    },
    {
     "data": {
      "image/png": "[encoded data removed]",
      "text/plain": [
       "<Figure size 432x288 with 1 Axes>"
      ]
     },
     "metadata": {
      "needs_background": "light"
     },
     "output_type": "display_data"
    }
   ],
   "source": [
    "plt.plot(test_results['Test Predictions'][0:100])\n",
    "plt.plot(test_results['Actuals'][0:100])"
   ]
  }
 ],
 "metadata": {
  "interpreter": {
   "hash": "c8e1ccf8879e8460160021d3183db5ad5d14fc1e3c1c9a12c65b59aff9df5523"
  },
  "kernelspec": {
   "display_name": "Python 3.9.7 ('tf')",
   "language": "python",
   "name": "python3"
  },
  "language_info": {
   "codemirror_mode": {
    "name": "ipython",
    "version": 3
   },
   "file_extension": ".py",
   "mimetype": "text/x-python",
   "name": "python",
   "nbconvert_exporter": "python",
   "pygments_lexer": "ipython3",
   "version": "3.9.7"
  },
  "orig_nbformat": 4
 },
 "nbformat": 4,
 "nbformat_minor": 2
}
