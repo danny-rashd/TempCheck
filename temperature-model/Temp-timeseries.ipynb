{
 "cells": [
  {
   "cell_type": "code",
   "execution_count": null,
   "id": "5dfee631",
   "metadata": {},
   "outputs": [],
   "source": [
    "import pandas as pd\n",
    "import numpy as np\n",
    "import time\n",
    "import datetime"
   ]
  },
  {
   "cell_type": "code",
   "execution_count": null,
   "id": "edcb0383",
   "metadata": {},
   "outputs": [],
   "source": [
    "\n",
    "df = pd.read_csv(r\"temp_cleaned_v3_withzero.csv\",parse_dates=['Datetime'])"
   ]
  },
  {
   "cell_type": "code",
   "execution_count": null,
   "id": "0f809037",
   "metadata": {},
   "outputs": [],
   "source": [
    "pd.set_option('display.float_format', str)"
   ]
  },
  {
   "cell_type": "code",
   "execution_count": null,
   "id": "17a89af8",
   "metadata": {},
   "outputs": [],
   "source": [
    "df.head(20)"
   ]
  },
  {
   "cell_type": "code",
   "execution_count": null,
   "id": "eda590ab",
   "metadata": {},
   "outputs": [],
   "source": [
    "df.loc[0,'Datetime'] #this data is read as a string"
   ]
  },
  {
   "cell_type": "code",
   "execution_count": null,
   "id": "b7322a83",
   "metadata": {},
   "outputs": [],
   "source": [
    "df['Datetime']=pd.to_datetime(df['Datetime'], infer_datetime_format=True)"
   ]
  },
  {
   "cell_type": "code",
   "execution_count": null,
   "id": "04539fb8",
   "metadata": {},
   "outputs": [],
   "source": [
    "df['Datetime']"
   ]
  },
  {
   "cell_type": "code",
   "execution_count": null,
   "id": "15809539",
   "metadata": {},
   "outputs": [],
   "source": [
    "df.loc[0,'Datetime'].day_name() #find out the day of the datetime"
   ]
  },
  {
   "cell_type": "code",
   "execution_count": null,
   "id": "7c1b4262",
   "metadata": {},
   "outputs": [],
   "source": [
    "df['Datetime'].dt.day_name()"
   ]
  },
  {
   "cell_type": "code",
   "execution_count": null,
   "id": "8d736d9c",
   "metadata": {},
   "outputs": [],
   "source": [
    "df['DayOfWeek'] = df['Datetime'].dt.day_name()"
   ]
  },
  {
   "cell_type": "code",
   "execution_count": null,
   "id": "2e79c6ff",
   "metadata": {},
   "outputs": [],
   "source": [
    "#get earliest date\n",
    "df['Datetime'].min() "
   ]
  },
  {
   "cell_type": "code",
   "execution_count": null,
   "id": "d6248da9",
   "metadata": {},
   "outputs": [],
   "source": [
    "#get latest date\n",
    "df['Datetime'].max() "
   ]
  },
  {
   "cell_type": "code",
   "execution_count": null,
   "id": "334e85e8",
   "metadata": {},
   "outputs": [],
   "source": [
    "df['Datetime'].max() - df['Datetime'].min()"
   ]
  },
  {
   "cell_type": "code",
   "execution_count": null,
   "id": "757cc619",
   "metadata": {},
   "outputs": [],
   "source": [
    "#get data from year 2022\n",
    "filt = (df['Datetime'] >= '2022') \n",
    "df.loc[filt]"
   ]
  },
  {
   "cell_type": "code",
   "execution_count": null,
   "id": "25e6185f",
   "metadata": {},
   "outputs": [],
   "source": [
    "#average temperature on a give day\n",
    "# df.groupby(['DayOfWeek', df['Datetime'].dt.date]).mean()"
   ]
  },
  {
   "cell_type": "code",
   "execution_count": null,
   "id": "100a6458",
   "metadata": {},
   "outputs": [],
   "source": [
    "df.set_index('Datetime',inplace=True)"
   ]
  },
  {
   "cell_type": "code",
   "execution_count": null,
   "id": "35b5e0ff",
   "metadata": {},
   "outputs": [],
   "source": [
    "df"
   ]
  },
  {
   "cell_type": "code",
   "execution_count": null,
   "id": "c3a81213",
   "metadata": {},
   "outputs": [],
   "source": [
    "df['2022']\n",
    "\n",
    "# df.loc['2022']"
   ]
  },
  {
   "cell_type": "code",
   "execution_count": null,
   "id": "310d5c1f",
   "metadata": {},
   "outputs": [],
   "source": [
    "df['2021':'2022']"
   ]
  },
  {
   "cell_type": "code",
   "execution_count": null,
   "id": "8de60d2c",
   "metadata": {},
   "outputs": [],
   "source": [
    "temp_series= df['2021':'2022']['Temperature']\n",
    "temp_series"
   ]
  },
  {
   "cell_type": "code",
   "execution_count": null,
   "id": "a5778ad8",
   "metadata": {},
   "outputs": [],
   "source": [
    "df['2021':'2022']['DayOfWeek']"
   ]
  },
  {
   "cell_type": "code",
   "execution_count": null,
   "id": "0be30c03",
   "metadata": {},
   "outputs": [],
   "source": [
    "df['2021-01':'2022-01']['Temperature'].mean()"
   ]
  },
  {
   "cell_type": "code",
   "execution_count": null,
   "id": "f27bc35c",
   "metadata": {},
   "outputs": [],
   "source": [
    "df['2021-01':'2022-01']['Temperature'].max()"
   ]
  },
  {
   "cell_type": "code",
   "execution_count": null,
   "id": "fb9a4c37",
   "metadata": {},
   "outputs": [],
   "source": [
    "temp_series_day = temp_series.resample('D').mean()\n",
    "temp_series_day"
   ]
  },
  {
   "cell_type": "code",
   "execution_count": null,
   "id": "24500798",
   "metadata": {},
   "outputs": [],
   "source": [
    "temp_series1 = temp_series.interpolate()"
   ]
  },
  {
   "cell_type": "code",
   "execution_count": null,
   "id": "a501ff18",
   "metadata": {},
   "outputs": [],
   "source": [
    "%matplotlib inline"
   ]
  },
  {
   "cell_type": "code",
   "execution_count": null,
   "id": "b51862ca",
   "metadata": {},
   "outputs": [],
   "source": [
    "temp_series1.plot()"
   ]
  },
  {
   "cell_type": "code",
   "execution_count": null,
   "id": "54efd4f1",
   "metadata": {},
   "outputs": [],
   "source": [
    "temp_series_day.plot()"
   ]
  }
 ],
 "metadata": {
  "kernelspec": {
   "display_name": "Python 3 (ipykernel)",
   "language": "python",
   "name": "python3"
  },
  "language_info": {
   "codemirror_mode": {
    "name": "ipython",
    "version": 3
   },
   "file_extension": ".py",
   "mimetype": "text/x-python",
   "name": "python",
   "nbconvert_exporter": "python",
   "pygments_lexer": "ipython3",
   "version": "3.9.7"
  }
 },
 "nbformat": 4,
 "nbformat_minor": 5
}
